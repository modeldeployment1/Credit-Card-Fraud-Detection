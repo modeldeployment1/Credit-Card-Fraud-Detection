{
 "cells": [
  {
   "cell_type": "code",
   "execution_count": 5,
   "id": "aed62505",
   "metadata": {},
   "outputs": [
    {
     "name": "stdout",
     "output_type": "stream",
     "text": [
      "Overwriting app.py\n"
     ]
    }
   ],
   "source": [
    "%%writefile app.py\n",
    "\n",
    "import streamlit as st\n",
    "import pandas as pd\n",
    "import joblib  # or use 'pickle' if preferred\n",
    "\n",
    "# Title of the app\n",
    "st.title(\"Credit Card Fraud Detection\")\n",
    "\n",
    "# Subtitle or description\n",
    "st.write(\"This app predicts whether a transaction is fraudulent or not using a trained Random Forest model.\")\n",
    "\n",
    "# Load your pre-trained model\n",
    "# Replace 'model.pkl' with your actual model file name\n",
    "model = joblib.load('model.pkl')\n",
    "\n",
    "# Create input fields for user to input data for prediction\n",
    "st.write(\"Please provide the input features below:\")\n",
    "\n",
    "# Feature input fields (without default values)\n",
    "Time = st.number_input(\"Time\")\n",
    "V1 = st.number_input(\"V1\")\n",
    "V2 = st.number_input(\"V2\")\n",
    "V3 = st.number_input(\"V3\")\n",
    "V4 = st.number_input(\"V4\")\n",
    "V5 = st.number_input(\"V5\")\n",
    "V6 = st.number_input(\"V6\")\n",
    "V7 = st.number_input(\"V7\")\n",
    "V8 = st.number_input(\"V8\")\n",
    "V9 = st.number_input(\"V9\")\n",
    "V10 = st.number_input(\"V10\")\n",
    "V11 = st.number_input(\"V11\")\n",
    "V12 = st.number_input(\"V12\")\n",
    "V13 = st.number_input(\"V13\")\n",
    "V14 = st.number_input(\"V14\")\n",
    "V15 = st.number_input(\"V15\")\n",
    "V16 = st.number_input(\"V16\")\n",
    "V17 = st.number_input(\"V17\")\n",
    "V18 = st.number_input(\"V18\")\n",
    "V19 = st.number_input(\"V19\")\n",
    "V20 = st.number_input(\"V20\")\n",
    "V21 = st.number_input(\"V21\")\n",
    "V22 = st.number_input(\"V22\")\n",
    "V23 = st.number_input(\"V23\")\n",
    "V24 = st.number_input(\"V24\")\n",
    "V25 = st.number_input(\"V25\")\n",
    "V26 = st.number_input(\"V26\")\n",
    "V27 = st.number_input(\"V27\")\n",
    "V28 = st.number_input(\"V28\")\n",
    "Hour = st.number_input(\"Hour\")\n",
    "Is_Weekend = st.number_input(\"Is_Weekend\")\n",
    "Log_Amount = st.number_input(\"Log_Amount\")\n",
    "\n",
    "# When the \"Predict\" button is pressed\n",
    "if st.button(\"Predict\"):\n",
    "    # Create a DataFrame with the input data\n",
    "    input_data = pd.DataFrame([[Time, V1, V2, V3, V4, V5, V6, V7, V8, V9, V10, \n",
    "                                V11, V12, V13, V14, V15, V16, V17, V18, V19, \n",
    "                                V20, V21, V22, V23, V24, V25, V26, V27, V28, \n",
    "                                Hour, Is_Weekend, Log_Amount]],\n",
    "                              columns=['Time', 'V1', 'V2', 'V3', 'V4', 'V5', \n",
    "                                       'V6', 'V7', 'V8', 'V9', 'V10', 'V11', \n",
    "                                       'V12', 'V13', 'V14', 'V15', 'V16', \n",
    "                                       'V17', 'V18', 'V19', 'V20', 'V21', \n",
    "                                       'V22', 'V23', 'V24', 'V25', 'V26', \n",
    "                                       'V27', 'V28', 'Hour', 'Is_Weekend', \n",
    "                                       'Log_Amount'])\n",
    "\n",
    "    st.write(\"Input Data:\")\n",
    "    st.write(input_data)\n",
    "\n",
    "# Make a prediction using the loaded model\n",
    "    try:\n",
    "        prediction = model.predict(input_data)\n",
    "        st.write(f\"Prediction: {prediction[0]}\")\n",
    "        if prediction[0] == 1:\n",
    "            st.write(\"The model predicts that the transaction is **fraudulent**.\")\n",
    "        else:\n",
    "            st.write(\"The model predicts that the transaction is **not fraudulent**.\")\n",
    "    except Exception as e:\n",
    "        st.error(f\"Error making prediction: {e}\")"
   ]
  },
  {
   "cell_type": "markdown",
   "id": "47f2e624",
   "metadata": {},
   "source": [
    "run streamlit app in prompt"
   ]
  },
  {
   "cell_type": "code",
   "execution_count": 4,
   "id": "13b99ebb",
   "metadata": {},
   "outputs": [],
   "source": [
    "# streamlit run app.py"
   ]
  },
  {
   "cell_type": "markdown",
   "id": "1e649ce5",
   "metadata": {},
   "source": [
    "#### Expose our Localhost to External Users"
   ]
  },
  {
   "cell_type": "markdown",
   "id": "475a327e",
   "metadata": {},
   "source": [
    "ngrok allowsus to expose our local server to the internet. Here’s how to use it:"
   ]
  },
  {
   "cell_type": "code",
   "execution_count": null,
   "id": "a69332df",
   "metadata": {},
   "outputs": [],
   "source": [
    "# pip install pyngrok"
   ]
  },
  {
   "cell_type": "markdown",
   "id": "0257afca",
   "metadata": {},
   "source": [
    "Start your Streamlit app:"
   ]
  },
  {
   "cell_type": "code",
   "execution_count": null,
   "id": "3af5ac6a",
   "metadata": {},
   "outputs": [],
   "source": [
    "# streamlit run app.py"
   ]
  },
  {
   "cell_type": "markdown",
   "id": "87eaf204",
   "metadata": {},
   "source": [
    "Open another terminal window and run ngrok to expose our local Streamlit server"
   ]
  },
  {
   "cell_type": "code",
   "execution_count": null,
   "id": "c9b7ce18",
   "metadata": {},
   "outputs": [],
   "source": [
    "# ngrok http 8501"
   ]
  },
  {
   "cell_type": "markdown",
   "id": "0a1f2b54",
   "metadata": {},
   "source": [
    "ngrok will provide a public URL (e.g., http://abcd1234.ngrok.io). We can share this URL with others, and they will be able to access our Streamlit app from their devices."
   ]
  },
  {
   "cell_type": "code",
   "execution_count": null,
   "id": "a8d0af2f",
   "metadata": {},
   "outputs": [],
   "source": []
  }
 ],
 "metadata": {
  "kernelspec": {
   "display_name": "Python 3 (ipykernel)",
   "language": "python",
   "name": "python3"
  },
  "language_info": {
   "codemirror_mode": {
    "name": "ipython",
    "version": 3
   },
   "file_extension": ".py",
   "mimetype": "text/x-python",
   "name": "python",
   "nbconvert_exporter": "python",
   "pygments_lexer": "ipython3",
   "version": "3.11.5"
  }
 },
 "nbformat": 4,
 "nbformat_minor": 5
}
